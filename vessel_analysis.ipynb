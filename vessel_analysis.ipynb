{
 "cells": [
  {
   "cell_type": "markdown",
   "metadata": {},
   "source": [
    "## Background and Objective\n",
    "\n",
    "### Background\n",
    "Currently, the methods to calculate the speed and then classify the activity/cruising/movement type of a record (i.e. Dynamic Positioning (DP), Transit, etc) based on the vessel speed.\n",
    "\n",
    "### Objective\n",
    "The objective is to give a new idea or perspective on how we can classify the vessel activity.\n",
    "\n",
    "\n",
    "\n",
    "\n"
   ]
  },
  {
   "cell_type": "markdown",
   "metadata": {},
   "source": [
    "Below is the statements to import all the library that needed for this model:"
   ]
  },
  {
   "cell_type": "code",
   "execution_count": 131,
   "metadata": {},
   "outputs": [],
   "source": [
    "import numpy as np\n",
    "import pandas as pd\n",
    "import seaborn as sns\n",
    "import matplotlib.pyplot as plt\n",
    "import geopy.distance as gd\n",
    "\n",
    "from mpl_toolkits.basemap import Basemap\n",
    "from datetime import datetime, timedelta\n",
    "\n",
    "pd.options.mode.chained_assignment = None"
   ]
  },
  {
   "cell_type": "markdown",
   "metadata": {},
   "source": [
    "### Data retrieval, data cleansing, data pre-processing\n",
    "#### I downloaded the data from https://globalfishingwatch.org/ \n",
    "The data related to fishing vessel but I think the data format should be similar (AIS Data)"
   ]
  },
  {
   "cell_type": "code",
   "execution_count": 132,
   "metadata": {},
   "outputs": [],
   "source": [
    "## Extract data from CSV file\n",
    "## Later this data can be taken by stream it from AIS data provider \n",
    "\n",
    "df_pole_and_line = pd.read_csv(\"./data/pole_and_line.csv\")"
   ]
  },
  {
   "cell_type": "code",
   "execution_count": 133,
   "metadata": {},
   "outputs": [],
   "source": [
    "## convert the timestamp to date-time format\n",
    "df_pole_and_line[\"date_time\"] = df_pole_and_line['timestamp'].apply(datetime.utcfromtimestamp)\n",
    "\n",
    "## convert meter to nautical mile (1 meter = 0.000539956803 nm)\n",
    "df_pole_and_line['distance_from_port_nm']= df_pole_and_line['distance_from_port'] * 0.000539956803\n",
    "df_pole_and_line['distance_from_shore_nm']= df_pole_and_line['distance_from_shore'] * 0.000539956803"
   ]
  },
  {
   "cell_type": "markdown",
   "metadata": {},
   "source": [
    "#### Filter on 1 vessel, 1 year and limited area only (Vessel ID: 196184437994412)"
   ]
  },
  {
   "cell_type": "code",
   "execution_count": 134,
   "metadata": {},
   "outputs": [
    {
     "data": {
      "text/html": [
       "<div>\n",
       "<style scoped>\n",
       "    .dataframe tbody tr th:only-of-type {\n",
       "        vertical-align: middle;\n",
       "    }\n",
       "\n",
       "    .dataframe tbody tr th {\n",
       "        vertical-align: top;\n",
       "    }\n",
       "\n",
       "    .dataframe thead th {\n",
       "        text-align: right;\n",
       "    }\n",
       "</style>\n",
       "<table border=\"1\" class=\"dataframe\">\n",
       "  <thead>\n",
       "    <tr style=\"text-align: right;\">\n",
       "      <th></th>\n",
       "      <th>mmsi</th>\n",
       "      <th>timestamp</th>\n",
       "      <th>distance_from_shore</th>\n",
       "      <th>distance_from_port</th>\n",
       "      <th>speed</th>\n",
       "      <th>course</th>\n",
       "      <th>lat</th>\n",
       "      <th>lon</th>\n",
       "      <th>is_fishing</th>\n",
       "      <th>source</th>\n",
       "      <th>date_time</th>\n",
       "      <th>distance_from_port_nm</th>\n",
       "      <th>distance_from_shore_nm</th>\n",
       "    </tr>\n",
       "  </thead>\n",
       "  <tbody>\n",
       "    <tr>\n",
       "      <th>0</th>\n",
       "      <td>1.961844e+14</td>\n",
       "      <td>1.452127e+09</td>\n",
       "      <td>0.0</td>\n",
       "      <td>1999.950928</td>\n",
       "      <td>0.0</td>\n",
       "      <td>137.5</td>\n",
       "      <td>33.511532</td>\n",
       "      <td>133.569061</td>\n",
       "      <td>-1.0</td>\n",
       "      <td>gfw</td>\n",
       "      <td>2016-01-07 00:34:13</td>\n",
       "      <td>1.079887</td>\n",
       "      <td>0.0</td>\n",
       "    </tr>\n",
       "  </tbody>\n",
       "</table>\n",
       "</div>"
      ],
      "text/plain": [
       "           mmsi     timestamp  distance_from_shore  distance_from_port  speed  \\\n",
       "0  1.961844e+14  1.452127e+09                  0.0         1999.950928    0.0   \n",
       "\n",
       "   course        lat         lon  is_fishing source           date_time  \\\n",
       "0   137.5  33.511532  133.569061        -1.0    gfw 2016-01-07 00:34:13   \n",
       "\n",
       "   distance_from_port_nm  distance_from_shore_nm  \n",
       "0               1.079887                     0.0  "
      ]
     },
     "execution_count": 134,
     "metadata": {},
     "output_type": "execute_result"
    }
   ],
   "source": [
    "## Query Data\n",
    "## Limit the area based on longitude and latitude\n",
    "df_vessel_1 = df_pole_and_line.loc[(df_pole_and_line['lon'] > 10 ) & \n",
    "                                  (df_pole_and_line['lat'] < 47 ) & \n",
    "                                  (df_pole_and_line['date_time'] >= \"2016-01-01\") & \n",
    "                                  (df_pole_and_line['mmsi'] == 196184437994412)]\n",
    "\n",
    "df_vessel_1.reset_index(drop=True, inplace=True)\n",
    "df_vessel_1.head(1)"
   ]
  },
  {
   "cell_type": "markdown",
   "metadata": {},
   "source": [
    "Below, I engineered the data and add information about previous coordinate of the vessel."
   ]
  },
  {
   "cell_type": "code",
   "execution_count": 135,
   "metadata": {},
   "outputs": [],
   "source": [
    "df_vessel_1['prev_lon'] = df_vessel_1.lon.shift(1)\n",
    "df_vessel_1['prev_lat'] = df_vessel_1.lat.shift(1)\n",
    "\n",
    "df_vessel_1['prev_coord'] = df_vessel_1.apply(lambda x: (x.prev_lat, x.prev_lon), axis=1)\n",
    "df_vessel_1['curr_coord'] = df_vessel_1.apply(lambda x: (x.lat, x.lon), axis=1)"
   ]
  },
  {
   "cell_type": "markdown",
   "metadata": {},
   "source": [
    "Using new data above, below I calculate distance traveled since previous point (current_coordinate - previous_coordinate):"
   ]
  },
  {
   "cell_type": "code",
   "execution_count": 136,
   "metadata": {},
   "outputs": [
    {
     "data": {
      "text/html": [
       "<div>\n",
       "<style scoped>\n",
       "    .dataframe tbody tr th:only-of-type {\n",
       "        vertical-align: middle;\n",
       "    }\n",
       "\n",
       "    .dataframe tbody tr th {\n",
       "        vertical-align: top;\n",
       "    }\n",
       "\n",
       "    .dataframe thead th {\n",
       "        text-align: right;\n",
       "    }\n",
       "</style>\n",
       "<table border=\"1\" class=\"dataframe\">\n",
       "  <thead>\n",
       "    <tr style=\"text-align: right;\">\n",
       "      <th></th>\n",
       "      <th>prev_coord</th>\n",
       "      <th>curr_coord</th>\n",
       "      <th>mile_since</th>\n",
       "    </tr>\n",
       "  </thead>\n",
       "  <tbody>\n",
       "    <tr>\n",
       "      <th>0</th>\n",
       "      <td>(nan, nan)</td>\n",
       "      <td>(33.5115318298, 133.5690612793)</td>\n",
       "      <td>NaN</td>\n",
       "    </tr>\n",
       "    <tr>\n",
       "      <th>1</th>\n",
       "      <td>(33.5115318298, 133.5690612793)</td>\n",
       "      <td>(33.5115318298, 133.5690917969)</td>\n",
       "      <td>0.001531</td>\n",
       "    </tr>\n",
       "  </tbody>\n",
       "</table>\n",
       "</div>"
      ],
      "text/plain": [
       "                        prev_coord                       curr_coord  \\\n",
       "0                       (nan, nan)  (33.5115318298, 133.5690612793)   \n",
       "1  (33.5115318298, 133.5690612793)  (33.5115318298, 133.5690917969)   \n",
       "\n",
       "   mile_since  \n",
       "0         NaN  \n",
       "1    0.001531  "
      ]
     },
     "execution_count": 136,
     "metadata": {},
     "output_type": "execute_result"
    }
   ],
   "source": [
    "# Here is the calculation of mile since the last record (current_coordinate - previous_coordinate)\n",
    "df_vessel_1['mile_since'] = df_vessel_1.loc[df_vessel_1['prev_lon'].notnull()].apply(\n",
    "    lambda x: gd.distance(x.prev_coord, x.curr_coord).nm, axis=1) \n",
    "\n",
    "# a clean the data from negative value, replace it with 0\n",
    "df_vessel_1.at[(df_vessel_1['mile_since'] == -1), 'mile_since'] = 0\n",
    "\n",
    "df_vessel_1[['prev_coord', 'curr_coord', 'mile_since']].head(2)"
   ]
  },
  {
   "cell_type": "markdown",
   "metadata": {},
   "source": [
    "Next, I calculate the hour difference since previous point (current_time - previous_time):"
   ]
  },
  {
   "cell_type": "code",
   "execution_count": 137,
   "metadata": {},
   "outputs": [
    {
     "data": {
      "text/html": [
       "<div>\n",
       "<style scoped>\n",
       "    .dataframe tbody tr th:only-of-type {\n",
       "        vertical-align: middle;\n",
       "    }\n",
       "\n",
       "    .dataframe tbody tr th {\n",
       "        vertical-align: top;\n",
       "    }\n",
       "\n",
       "    .dataframe thead th {\n",
       "        text-align: right;\n",
       "    }\n",
       "</style>\n",
       "<table border=\"1\" class=\"dataframe\">\n",
       "  <thead>\n",
       "    <tr style=\"text-align: right;\">\n",
       "      <th></th>\n",
       "      <th>hour_since</th>\n",
       "    </tr>\n",
       "  </thead>\n",
       "  <tbody>\n",
       "    <tr>\n",
       "      <th>0</th>\n",
       "      <td>NaN</td>\n",
       "    </tr>\n",
       "    <tr>\n",
       "      <th>1</th>\n",
       "      <td>0.108056</td>\n",
       "    </tr>\n",
       "  </tbody>\n",
       "</table>\n",
       "</div>"
      ],
      "text/plain": [
       "   hour_since\n",
       "0         NaN\n",
       "1    0.108056"
      ]
     },
     "execution_count": 137,
     "metadata": {},
     "output_type": "execute_result"
    }
   ],
   "source": [
    "# Here is the calculation of hour since the last record (current_time - previous_time)\n",
    "# Then convert to hourly format\n",
    "df_vessel_1['hour_since'] = (df_vessel_1.date_time - df_vessel_1.date_time.shift(1))/np.timedelta64(1, 'h')\n",
    "df_vessel_1[['hour_since']].head(2)"
   ]
  },
  {
   "cell_type": "markdown",
   "metadata": {},
   "source": [
    "#### Generate 2 dummy columns related to  weather data: \"is_storm\" and \"is_opposite_wind_direction\"\n",
    "\n",
    "In my opinion, although the values are simple and it doesn't represent the real data but it will add additional perspective for the machine learning model later on."
   ]
  },
  {
   "cell_type": "code",
   "execution_count": 138,
   "metadata": {},
   "outputs": [],
   "source": [
    "# is_storm is an over simplified of weather data, where I assume there are only two types (storm or calm)\n",
    "df_vessel_1['is_storm'] = 0\n",
    "df_vessel_1.at[df_vessel_1.index.isin(np.random.randint(0, 2181 + 1, size=100)), 'is_storm'] = 1\n",
    "\n",
    "\n",
    "# is_opposite_wind_direction also an over simplified data, where I assume there are only two types\n",
    "# (opposite or same direction)\n",
    "df_vessel_1['is_opposite_wind_direction'] = 0\n",
    "df_vessel_1.at[df_vessel_1.index.isin(np.random.randint(0, 2181 + 1, size=100)), 'is_opposite_wind_direction'] = 1"
   ]
  },
  {
   "cell_type": "markdown",
   "metadata": {},
   "source": [
    "I also calculate speed based on previously calculated data:"
   ]
  },
  {
   "cell_type": "code",
   "execution_count": 139,
   "metadata": {},
   "outputs": [],
   "source": [
    "# Here is the calculation of speed (mile_since - hour_since) --> nautical_mile/hour\n",
    "df_vessel_1.at[(df_vessel_1['hour_since'] == 0) & (df_vessel_1['mile_since'] > 0), 'hour_since']=0.001\n",
    "\n",
    "df_vessel_1['speed_nm'] = (df_vessel_1.mile_since / df_vessel_1.hour_since)"
   ]
  },
  {
   "cell_type": "code",
   "execution_count": 140,
   "metadata": {},
   "outputs": [],
   "source": [
    "# fill the empty column with 0 to avoid error when train the model\n",
    "df_vessel_1.fillna(0, inplace=True)"
   ]
  },
  {
   "cell_type": "code",
   "execution_count": 141,
   "metadata": {},
   "outputs": [],
   "source": [
    "# delete some unused columns to save space\n",
    "df_vessel_1 = df_vessel_1[['mmsi', 'speed', 'lat', 'lon', 'date_time',\n",
    "                           'distance_from_port_nm', 'distance_from_shore_nm', 'curr_coord', 'mile_since', 'hour_since', \n",
    "                           'speed_nm', 'is_storm', 'is_opposite_wind_direction']]"
   ]
  },
  {
   "cell_type": "code",
   "execution_count": 142,
   "metadata": {
    "scrolled": true
   },
   "outputs": [
    {
     "data": {
      "text/html": [
       "<div>\n",
       "<style scoped>\n",
       "    .dataframe tbody tr th:only-of-type {\n",
       "        vertical-align: middle;\n",
       "    }\n",
       "\n",
       "    .dataframe tbody tr th {\n",
       "        vertical-align: top;\n",
       "    }\n",
       "\n",
       "    .dataframe thead th {\n",
       "        text-align: right;\n",
       "    }\n",
       "</style>\n",
       "<table border=\"1\" class=\"dataframe\">\n",
       "  <thead>\n",
       "    <tr style=\"text-align: right;\">\n",
       "      <th></th>\n",
       "      <th>mmsi</th>\n",
       "      <th>speed</th>\n",
       "      <th>lat</th>\n",
       "      <th>lon</th>\n",
       "      <th>date_time</th>\n",
       "      <th>distance_from_port_nm</th>\n",
       "      <th>distance_from_shore_nm</th>\n",
       "      <th>curr_coord</th>\n",
       "      <th>mile_since</th>\n",
       "      <th>hour_since</th>\n",
       "      <th>speed_nm</th>\n",
       "      <th>is_storm</th>\n",
       "      <th>is_opposite_wind_direction</th>\n",
       "    </tr>\n",
       "  </thead>\n",
       "  <tbody>\n",
       "    <tr>\n",
       "      <th>0</th>\n",
       "      <td>1.961844e+14</td>\n",
       "      <td>0.0</td>\n",
       "      <td>33.511532</td>\n",
       "      <td>133.569061</td>\n",
       "      <td>2016-01-07 00:34:13</td>\n",
       "      <td>1.079887</td>\n",
       "      <td>0.0</td>\n",
       "      <td>(33.5115318298, 133.5690612793)</td>\n",
       "      <td>0.000000</td>\n",
       "      <td>0.000000</td>\n",
       "      <td>0.000000</td>\n",
       "      <td>0</td>\n",
       "      <td>0</td>\n",
       "    </tr>\n",
       "    <tr>\n",
       "      <th>1</th>\n",
       "      <td>1.961844e+14</td>\n",
       "      <td>0.0</td>\n",
       "      <td>33.511532</td>\n",
       "      <td>133.569092</td>\n",
       "      <td>2016-01-07 00:40:42</td>\n",
       "      <td>1.079887</td>\n",
       "      <td>0.0</td>\n",
       "      <td>(33.5115318298, 133.5690917969)</td>\n",
       "      <td>0.001531</td>\n",
       "      <td>0.108056</td>\n",
       "      <td>0.014169</td>\n",
       "      <td>0</td>\n",
       "      <td>0</td>\n",
       "    </tr>\n",
       "    <tr>\n",
       "      <th>2</th>\n",
       "      <td>1.961844e+14</td>\n",
       "      <td>0.0</td>\n",
       "      <td>33.511318</td>\n",
       "      <td>133.569168</td>\n",
       "      <td>2016-01-07 00:55:13</td>\n",
       "      <td>1.079887</td>\n",
       "      <td>0.0</td>\n",
       "      <td>(33.5113182068, 133.5691680908)</td>\n",
       "      <td>0.013354</td>\n",
       "      <td>0.241944</td>\n",
       "      <td>0.055194</td>\n",
       "      <td>0</td>\n",
       "      <td>0</td>\n",
       "    </tr>\n",
       "    <tr>\n",
       "      <th>3</th>\n",
       "      <td>1.961844e+14</td>\n",
       "      <td>0.0</td>\n",
       "      <td>33.511402</td>\n",
       "      <td>133.569046</td>\n",
       "      <td>2016-01-07 01:22:10</td>\n",
       "      <td>1.079887</td>\n",
       "      <td>0.0</td>\n",
       "      <td>(33.5114021301, 133.5690460205)</td>\n",
       "      <td>0.007922</td>\n",
       "      <td>0.449167</td>\n",
       "      <td>0.017638</td>\n",
       "      <td>0</td>\n",
       "      <td>0</td>\n",
       "    </tr>\n",
       "    <tr>\n",
       "      <th>4</th>\n",
       "      <td>1.961844e+14</td>\n",
       "      <td>0.0</td>\n",
       "      <td>33.511429</td>\n",
       "      <td>133.569092</td>\n",
       "      <td>2016-01-07 01:28:06</td>\n",
       "      <td>1.079887</td>\n",
       "      <td>0.0</td>\n",
       "      <td>(33.511428833000004, 133.5690917969)</td>\n",
       "      <td>0.002798</td>\n",
       "      <td>0.098889</td>\n",
       "      <td>0.028299</td>\n",
       "      <td>0</td>\n",
       "      <td>0</td>\n",
       "    </tr>\n",
       "  </tbody>\n",
       "</table>\n",
       "</div>"
      ],
      "text/plain": [
       "           mmsi  speed        lat         lon           date_time  \\\n",
       "0  1.961844e+14    0.0  33.511532  133.569061 2016-01-07 00:34:13   \n",
       "1  1.961844e+14    0.0  33.511532  133.569092 2016-01-07 00:40:42   \n",
       "2  1.961844e+14    0.0  33.511318  133.569168 2016-01-07 00:55:13   \n",
       "3  1.961844e+14    0.0  33.511402  133.569046 2016-01-07 01:22:10   \n",
       "4  1.961844e+14    0.0  33.511429  133.569092 2016-01-07 01:28:06   \n",
       "\n",
       "   distance_from_port_nm  distance_from_shore_nm  \\\n",
       "0               1.079887                     0.0   \n",
       "1               1.079887                     0.0   \n",
       "2               1.079887                     0.0   \n",
       "3               1.079887                     0.0   \n",
       "4               1.079887                     0.0   \n",
       "\n",
       "                             curr_coord  mile_since  hour_since  speed_nm  \\\n",
       "0       (33.5115318298, 133.5690612793)    0.000000    0.000000  0.000000   \n",
       "1       (33.5115318298, 133.5690917969)    0.001531    0.108056  0.014169   \n",
       "2       (33.5113182068, 133.5691680908)    0.013354    0.241944  0.055194   \n",
       "3       (33.5114021301, 133.5690460205)    0.007922    0.449167  0.017638   \n",
       "4  (33.511428833000004, 133.5690917969)    0.002798    0.098889  0.028299   \n",
       "\n",
       "   is_storm  is_opposite_wind_direction  \n",
       "0         0                           0  \n",
       "1         0                           0  \n",
       "2         0                           0  \n",
       "3         0                           0  \n",
       "4         0                           0  "
      ]
     },
     "execution_count": 142,
     "metadata": {},
     "output_type": "execute_result"
    }
   ],
   "source": [
    "df_vessel_1.head()"
   ]
  },
  {
   "cell_type": "markdown",
   "metadata": {},
   "source": [
    "## Scale the data and train the ML model\n",
    "The data needs to be scaled, because the variance is quite high, for instance \"distance_from_port_nm\" has values that range from 0 to 730. \n",
    "For this, I use Robust-Scaler from Scikit-learn because it will scaled the data and decreased the advantages of having outliers data.\n",
    "\n",
    "Then, I arrange the features which the model will be trained with. This features will be the main parameter for the ML model. Currently there are seven features."
   ]
  },
  {
   "cell_type": "code",
   "execution_count": 143,
   "metadata": {},
   "outputs": [
    {
     "data": {
      "text/plain": [
       "730.0200452801914"
      ]
     },
     "execution_count": 143,
     "metadata": {},
     "output_type": "execute_result"
    }
   ],
   "source": [
    "df_vessel_1.distance_from_port_nm.max()"
   ]
  },
  {
   "cell_type": "code",
   "execution_count": 144,
   "metadata": {
    "scrolled": true
   },
   "outputs": [
    {
     "data": {
      "text/html": [
       "<div>\n",
       "<style scoped>\n",
       "    .dataframe tbody tr th:only-of-type {\n",
       "        vertical-align: middle;\n",
       "    }\n",
       "\n",
       "    .dataframe tbody tr th {\n",
       "        vertical-align: top;\n",
       "    }\n",
       "\n",
       "    .dataframe thead th {\n",
       "        text-align: right;\n",
       "    }\n",
       "</style>\n",
       "<table border=\"1\" class=\"dataframe\">\n",
       "  <thead>\n",
       "    <tr style=\"text-align: right;\">\n",
       "      <th></th>\n",
       "      <th>distance_from_port_nm</th>\n",
       "      <th>distance_from_shore_nm</th>\n",
       "      <th>mile_since</th>\n",
       "      <th>speed</th>\n",
       "      <th>hour_since</th>\n",
       "      <th>is_storm</th>\n",
       "      <th>is_opposite_wind_direction</th>\n",
       "    </tr>\n",
       "  </thead>\n",
       "  <tbody>\n",
       "    <tr>\n",
       "      <th>0</th>\n",
       "      <td>1.079887</td>\n",
       "      <td>0.0</td>\n",
       "      <td>0.000000</td>\n",
       "      <td>0.0</td>\n",
       "      <td>0.000000</td>\n",
       "      <td>0</td>\n",
       "      <td>0</td>\n",
       "    </tr>\n",
       "    <tr>\n",
       "      <th>1</th>\n",
       "      <td>1.079887</td>\n",
       "      <td>0.0</td>\n",
       "      <td>0.001531</td>\n",
       "      <td>0.0</td>\n",
       "      <td>0.108056</td>\n",
       "      <td>0</td>\n",
       "      <td>0</td>\n",
       "    </tr>\n",
       "  </tbody>\n",
       "</table>\n",
       "</div>"
      ],
      "text/plain": [
       "   distance_from_port_nm  distance_from_shore_nm  mile_since  speed  \\\n",
       "0               1.079887                     0.0    0.000000    0.0   \n",
       "1               1.079887                     0.0    0.001531    0.0   \n",
       "\n",
       "   hour_since  is_storm  is_opposite_wind_direction  \n",
       "0    0.000000         0                           0  \n",
       "1    0.108056         0                           0  "
      ]
     },
     "execution_count": 144,
     "metadata": {},
     "output_type": "execute_result"
    }
   ],
   "source": [
    "from sklearn.preprocessing import RobustScaler\n",
    "\n",
    "\n",
    "# Features preparation. Copy from the original dataframe to a variable.\n",
    "X = df_vessel_1[['distance_from_port_nm', 'distance_from_shore_nm', \n",
    "                 'mile_since', 'speed', \n",
    "                 'hour_since', 'is_storm', \n",
    "                 'is_opposite_wind_direction']]\n",
    "\n",
    "# Variable X then fitted to the scaler\n",
    "scaler = RobustScaler().fit(X)\n",
    "\n",
    "# Then Transform the X into array X_scaled, this variable later will be the parameter for model\n",
    "X_scaled = scaler.transform(X)\n",
    "\n",
    "# Below is the sample data before scaled:\n",
    "X.head(2)"
   ]
  },
  {
   "cell_type": "markdown",
   "metadata": {},
   "source": [
    "Below is the sampe data after scaled:"
   ]
  },
  {
   "cell_type": "code",
   "execution_count": 145,
   "metadata": {},
   "outputs": [
    {
     "data": {
      "text/plain": [
       "array([[-0.08427391, -0.09160519, -0.5914415 , -1.12621361, -0.62373737,\n",
       "         0.        ,  0.        ],\n",
       "       [-0.08427391, -0.09160519, -0.59108982, -1.12621361, -0.37815657,\n",
       "         0.        ,  0.        ]])"
      ]
     },
     "execution_count": 145,
     "metadata": {},
     "output_type": "execute_result"
    }
   ],
   "source": [
    "X_scaled[0:2]"
   ]
  },
  {
   "cell_type": "markdown",
   "metadata": {},
   "source": [
    "###  Train the model\n",
    "\n",
    "The model it self is K-means, an unsupervised method to train machine learning model. The model creates clusters by calculating  the distance in multi-dimension data (in this case, it calculates seven dimensions data) and group points that close to each other.\n",
    "\n",
    "Parameters that are set for the models:\n",
    "\n",
    "n_clusters -> How many clusters that will produces by the model \n",
    "\n",
    "n_init -> How many central point that this model will run in parallel. In the end, it will choose the best of n.\n",
    "\n",
    "max_iter -> How many iteration for a single run. "
   ]
  },
  {
   "cell_type": "code",
   "execution_count": 146,
   "metadata": {},
   "outputs": [],
   "source": [
    "from sklearn.cluster import KMeans\n",
    "\n",
    "kmeans_model = KMeans(\n",
    "    n_clusters=6, \n",
    "    n_init=20, # The default is 10, increased it to 20\n",
    "    max_iter=500 # The default is 300, increased it to 500\n",
    ")\n",
    "\n",
    "kmeans_y_result = km.fit_predict(X_scaled)"
   ]
  },
  {
   "cell_type": "markdown",
   "metadata": {},
   "source": [
    "Below, I add new column to the original vessel dataframe and copy the result in to the column."
   ]
  },
  {
   "cell_type": "code",
   "execution_count": 147,
   "metadata": {},
   "outputs": [],
   "source": [
    "df_vessel_1['group'] = kmeans_y_result"
   ]
  },
  {
   "cell_type": "code",
   "execution_count": 153,
   "metadata": {
    "scrolled": false
   },
   "outputs": [
    {
     "data": {
      "text/html": [
       "<div>\n",
       "<style scoped>\n",
       "    .dataframe tbody tr th:only-of-type {\n",
       "        vertical-align: middle;\n",
       "    }\n",
       "\n",
       "    .dataframe tbody tr th {\n",
       "        vertical-align: top;\n",
       "    }\n",
       "\n",
       "    .dataframe thead th {\n",
       "        text-align: right;\n",
       "    }\n",
       "</style>\n",
       "<table border=\"1\" class=\"dataframe\">\n",
       "  <thead>\n",
       "    <tr style=\"text-align: right;\">\n",
       "      <th></th>\n",
       "      <th>distance_from_port_nm</th>\n",
       "      <th>speed</th>\n",
       "      <th>distance_from_shore_nm</th>\n",
       "      <th>speed_nm</th>\n",
       "      <th>mile_since</th>\n",
       "      <th>hour_since</th>\n",
       "      <th>is_storm</th>\n",
       "      <th>is_opposite_wind_direction</th>\n",
       "      <th>group</th>\n",
       "    </tr>\n",
       "  </thead>\n",
       "  <tbody>\n",
       "    <tr>\n",
       "      <th>128</th>\n",
       "      <td>473.666846</td>\n",
       "      <td>7.5</td>\n",
       "      <td>205.116732</td>\n",
       "      <td>8.862434</td>\n",
       "      <td>814.373952</td>\n",
       "      <td>91.890556</td>\n",
       "      <td>0</td>\n",
       "      <td>0</td>\n",
       "      <td>0</td>\n",
       "    </tr>\n",
       "    <tr>\n",
       "      <th>4</th>\n",
       "      <td>1.079887</td>\n",
       "      <td>0.0</td>\n",
       "      <td>0.000000</td>\n",
       "      <td>0.028299</td>\n",
       "      <td>0.002798</td>\n",
       "      <td>0.098889</td>\n",
       "      <td>0</td>\n",
       "      <td>0</td>\n",
       "      <td>4</td>\n",
       "    </tr>\n",
       "    <tr>\n",
       "      <th>318</th>\n",
       "      <td>511.279798</td>\n",
       "      <td>12.5</td>\n",
       "      <td>25.651580</td>\n",
       "      <td>11.114439</td>\n",
       "      <td>422.796338</td>\n",
       "      <td>38.040278</td>\n",
       "      <td>0</td>\n",
       "      <td>0</td>\n",
       "      <td>2</td>\n",
       "    </tr>\n",
       "    <tr>\n",
       "      <th>1507</th>\n",
       "      <td>130.594923</td>\n",
       "      <td>12.0</td>\n",
       "      <td>10.258927</td>\n",
       "      <td>1.150373</td>\n",
       "      <td>56.735118</td>\n",
       "      <td>49.318889</td>\n",
       "      <td>0</td>\n",
       "      <td>0</td>\n",
       "      <td>3</td>\n",
       "    </tr>\n",
       "    <tr>\n",
       "      <th>2123</th>\n",
       "      <td>26.850997</td>\n",
       "      <td>11.2</td>\n",
       "      <td>16.877015</td>\n",
       "      <td>0.684036</td>\n",
       "      <td>12.474158</td>\n",
       "      <td>18.236111</td>\n",
       "      <td>1</td>\n",
       "      <td>0</td>\n",
       "      <td>1</td>\n",
       "    </tr>\n",
       "    <tr>\n",
       "      <th>1048</th>\n",
       "      <td>272.140659</td>\n",
       "      <td>13.6</td>\n",
       "      <td>259.045204</td>\n",
       "      <td>1.413554</td>\n",
       "      <td>677.989006</td>\n",
       "      <td>479.634444</td>\n",
       "      <td>0</td>\n",
       "      <td>0</td>\n",
       "      <td>5</td>\n",
       "    </tr>\n",
       "  </tbody>\n",
       "</table>\n",
       "</div>"
      ],
      "text/plain": [
       "      distance_from_port_nm  speed  distance_from_shore_nm   speed_nm  \\\n",
       "128              473.666846    7.5              205.116732   8.862434   \n",
       "4                  1.079887    0.0                0.000000   0.028299   \n",
       "318              511.279798   12.5               25.651580  11.114439   \n",
       "1507             130.594923   12.0               10.258927   1.150373   \n",
       "2123              26.850997   11.2               16.877015   0.684036   \n",
       "1048             272.140659   13.6              259.045204   1.413554   \n",
       "\n",
       "      mile_since  hour_since  is_storm  is_opposite_wind_direction  group  \n",
       "128   814.373952   91.890556         0                           0      0  \n",
       "4       0.002798    0.098889         0                           0      4  \n",
       "318   422.796338   38.040278         0                           0      2  \n",
       "1507   56.735118   49.318889         0                           0      3  \n",
       "2123   12.474158   18.236111         1                           0      1  \n",
       "1048  677.989006  479.634444         0                           0      5  "
      ]
     },
     "execution_count": 153,
     "metadata": {},
     "output_type": "execute_result"
    }
   ],
   "source": [
    "df_vessel_1.loc[[128, 4, 318, 1507, 2123, 1048], \n",
    "                ['distance_from_port_nm', \n",
    "                 'speed', 'distance_from_shore_nm', \n",
    "                 'speed_nm', 'mile_since', 'hour_since', 'is_storm', 'is_opposite_wind_direction', 'group']]"
   ]
  },
  {
   "cell_type": "markdown",
   "metadata": {},
   "source": [
    "Below is the distribution of each group. The higher number of member is group 4 which I can classify as stop/hover or \"DP\" event:"
   ]
  },
  {
   "cell_type": "code",
   "execution_count": 149,
   "metadata": {},
   "outputs": [
    {
     "data": {
      "text/plain": [
       "group\n",
       "0      12\n",
       "1     143\n",
       "2      37\n",
       "3      15\n",
       "4    1968\n",
       "5       6\n",
       "Name: mmsi, dtype: int64"
      ]
     },
     "execution_count": 149,
     "metadata": {},
     "output_type": "execute_result"
    }
   ],
   "source": [
    "df_vessel_1.groupby('group').count()['mmsi']"
   ]
  },
  {
   "cell_type": "markdown",
   "metadata": {},
   "source": [
    "### Plot the vessel on the map based on latitude and longitude"
   ]
  },
  {
   "cell_type": "code",
   "execution_count": 154,
   "metadata": {},
   "outputs": [],
   "source": [
    "# for practicality I copy the data from the original Dataframe\n",
    "df_vessel_plot_1 = df_vessel_1\n",
    "\n",
    "# then split it into 6 group, as many as number of group from model training \n",
    "df_vessel_plot_group_0 = df_vessel_plot_1.loc[df_vessel_plot_1['group'] == 0]\n",
    "df_vessel_plot_group_1 = df_vessel_plot_1.loc[df_vessel_plot_1['group'] == 1]\n",
    "df_vessel_plot_group_2 = df_vessel_plot_1.loc[df_vessel_plot_1['group'] == 2]\n",
    "df_vessel_plot_group_3 = df_vessel_plot_1.loc[df_vessel_plot_1['group'] == 3]\n",
    "df_vessel_plot_group_4 = df_vessel_plot_1.loc[df_vessel_plot_1['group'] == 4]\n",
    "df_vessel_plot_group_5 = df_vessel_plot_1.loc[df_vessel_plot_1['group'] == 5]"
   ]
  },
  {
   "cell_type": "code",
   "execution_count": 155,
   "metadata": {},
   "outputs": [
    {
     "data": {
      "image/png": "[encoded data removed]",
      "text/plain": [
       "<Figure size 1080x1800 with 1 Axes>"
      ]
     },
     "metadata": {},
     "output_type": "display_data"
    }
   ],
   "source": [
    "sns.set_style(\"white\")\n",
    "plt.figure(figsize=(15, 25)) \n",
    "\n",
    "## Create a map object using the lowest and the highest longitude and latitude value of the data. \n",
    "## Then give spare 5 degree for each side to give more room.\n",
    "m = Basemap(llcrnrlon=df_vessel_plot_1.lon.min()-5,llcrnrlat=df_vessel_plot_1.lat.min()-5,\n",
    "            urcrnrlon=df_vessel_plot_1.lon.max()+5,urcrnrlat=df_vessel_plot_1.lat.max()+5,projection='mill', resolution ='l')\n",
    "\n",
    "# This will draw both the boundary and lines\n",
    "# This draw the boundary that separate the map object (sea, soil, etc.)\n",
    "m.drawmapboundary()\n",
    "m.fillcontinents(\"white\",lake_color=\"blue\")\n",
    "parallels = np.arange(df_vessel_plot_1.lat.min(),df_vessel_plot_1.lat.max(),20.)\n",
    "m.drawparallels(parallels,labels=[1,0,0,0],fontsize=15,color='black')\n",
    "meridians = np.arange(df_vessel_plot_1.lon.min(),df_vessel_plot_1.lon.max(),20.)\n",
    "m.drawmeridians(meridians,labels=[0,0,0,1],fontsize=15,color='black')\n",
    "m.drawmapboundary(fill_color='#A2C3FF')\n",
    "\n",
    "## Group 0\n",
    "## Based on data that has been clustered before. Take longitude and latitude from df_vessel_plot_group_0 then give a red color \n",
    "x,y= m(df_vessel_plot_group_0.lon.to_numpy(),df_vessel_plot_group_0.lat.to_numpy())\n",
    "size = 2\n",
    "m.plot(x,y,marker = 'o',markersize=size,markeredgecolor = 'red',\n",
    "       alpha = 1,linestyle='None', label=\"Vessel speed/activity type 0\")\n",
    "\n",
    "## Group 1\n",
    "## Based on data that has been clustered before. \n",
    "## Take longitude and latitude from df_vessel_plot_group_1, set the point size, give label then give a yellow color\n",
    "x,y= m(df_vessel_plot_group_1.lon.to_numpy(),df_vessel_plot_group_1.lat.to_numpy())\n",
    "m.plot(x,y,marker = 'o',markersize=2,markeredgecolor = 'yellow',\n",
    "       alpha = 1,linestyle='None', label=\"Vessel speed/activity type 1\")\n",
    "\n",
    "## Group 2\n",
    "## Based on data that has been clustered before. \n",
    "## Take longitude and latitude from df_vessel_plot_group_2, set the point size, give label then give a yellow blue\n",
    "x,y= m(df_vessel_plot_group_2.lon.to_numpy(),df_vessel_plot_group_2.lat.to_numpy())\n",
    "m.plot(x,y,marker = 'o',markersize=2,markeredgecolor = 'blue',\n",
    "       alpha = 1,linestyle='None', label=\"Vessel speed/activity type 2\")\n",
    "\n",
    "## Group 3\n",
    "## Based on data that has been clustered before. \n",
    "## Take longitude and latitude from df_vessel_plot_group_3, set the point size, give label then give a green color\n",
    "x,y= m(df_vessel_plot_group_3.lon.to_numpy(),df_vessel_plot_group_3.lat.to_numpy())\n",
    "m.plot(x,y,marker = 'o',markersize=2,markeredgecolor = 'green',\n",
    "       alpha = 1,linestyle='None', label=\"Vessel speed/activity type 3\")\n",
    "\n",
    "## Group 4\n",
    "## Based on data that has been clustered before. \n",
    "## Take longitude and latitude from df_vessel_plot_group_4, set the point size, give label then give a purple color\n",
    "x,y= m(df_vessel_plot_group_4.lon.to_numpy(),df_vessel_plot_group_4.lat.to_numpy())\n",
    "m.plot(x,y,marker = 'o',markersize=2,markeredgecolor = 'purple',\n",
    "       alpha = 1,linestyle='None', label=\"Vessel speed/activity type 4\")\n",
    "\n",
    "## Group 5\n",
    "## Based on data that has been clustered before. \n",
    "## Take longitude and latitude from df_vessel_plot_group_5, set the point size, give label then give a orange color\n",
    "x,y= m(df_vessel_plot_group_5.lon.to_numpy(),df_vessel_plot_group_5.lat.to_numpy())\n",
    "m.plot(x,y,marker = 'o',markersize=2,markeredgecolor = 'orange',\n",
    "       alpha = 1,linestyle='None', label=\"Vessel speed/activity type 5\")\n",
    "\n",
    "\n",
    "## This is the title of the Map\n",
    "plt.title(\"Vessel ID: 196184437994412 - 2016 (consists of 6 group of cruising type)\", \n",
    "         fontsize=20)\n",
    "plt.legend(fontsize=15)\n",
    "plt.show()"
   ]
  },
  {
   "cell_type": "markdown",
   "metadata": {},
   "source": [
    "Using this approach it is possible to put several variables into consideration to predict activity of a vessel at a point of time.<br>\n",
    "From the clusters we can see that: <br>\n",
    "- The algorithm can put \"DP\" or stop event into one cluster (Group 4 / color code in purple) \n",
    "- It can also separate almost all transit (higher speed) event into several clusters ( Group 1 /  color code in yellow)\n",
    "- It can also sense if the AIS data was coming after a long time (Group 0 and 2 / color code in red and blue) \n",
    "\n",
    "I am confidence, with some more tuning the model can give a better output and room for feature enhancement. "
   ]
  },
  {
   "cell_type": "markdown",
   "metadata": {},
   "source": [
    "## Potential Future Enhancement and Improvement"
   ]
  },
  {
   "cell_type": "markdown",
   "metadata": {},
   "source": [
    "Potential Enhancement: <br>\n",
    "- Engineer a feature to get a heading/direction data of a vessel. I think direction can be calculated by using \"previous_coordinate\" and \"current_coordinate\". Then, we can make analysis about circling vessel movement by grouping several records inside a range of time.\n",
    "- Develop two micro-service, one is for data preprocessing and the other one is for execute ML models.\n",
    "\n",
    "My ideas for enhancement in near future (2 weeks until 2 months) are: <br>\n",
    "- Build similar model like this for each similar vessel specification then use it to label the current data. Finally use it to train a supervised method to do prediction directly.\n",
    "- Group all previous route by origin, destination and vessel type. The company with help from a domain expert can do some reinforcement learning to evaluate/weighing the best route possible.\n",
    "- Enhance the usage of weather data.\n",
    "\n",
    "For enhancement in far future (more than 6 months): <br>\n",
    "- Develop a sea traffic analysis to get a better insight for journey planning. For example, By tracking the vessels which on the way to a port, an algorithm can predict when is a better time to start the journey to avoid or reduce queing and waiting time.\n",
    "\n",
    "Unfortunately, I didn't use a real supply vessel AIS data, I also didn't find any engine and fuel consumption data.\n"
   ]
  },
  {
   "cell_type": "code",
   "execution_count": null,
   "metadata": {},
   "outputs": [],
   "source": []
  }
 ],
 "metadata": {
  "kernelspec": {
   "display_name": "Python 3",
   "language": "python",
   "name": "python3"
  },
  "language_info": {
   "codemirror_mode": {
    "name": "ipython",
    "version": 3
   },
   "file_extension": ".py",
   "mimetype": "text/x-python",
   "name": "python",
   "nbconvert_exporter": "python",
   "pygments_lexer": "ipython3",
   "version": "3.6.12"
  }
 },
 "nbformat": 4,
 "nbformat_minor": 4
}
